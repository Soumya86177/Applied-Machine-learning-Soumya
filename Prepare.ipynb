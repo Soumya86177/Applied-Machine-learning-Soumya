{
 "cells": [
  {
   "cell_type": "markdown",
   "metadata": {},
   "source": [
    "# Pointing to the directory where the data has been saved."
   ]
  },
  {
   "cell_type": "code",
   "execution_count": 1,
   "metadata": {},
   "outputs": [
    {
     "name": "stdout",
     "output_type": "stream",
     "text": [
      "C:\\Users\\soumy\\OneDrive\\Documents\\Semester 4\\AML\n"
     ]
    }
   ],
   "source": [
    "cd C:\\Users\\soumy\\OneDrive\\Documents\\Semester 4\\AML"
   ]
  },
  {
   "cell_type": "markdown",
   "metadata": {},
   "source": [
    "# Loading, preprocessig, splitting, and saving the dataset."
   ]
  },
  {
   "cell_type": "code",
   "execution_count": 6,
   "metadata": {},
   "outputs": [
    {
     "name": "stdout",
     "output_type": "stream",
     "text": [
      "Data preprocessing complete. Train, Validation, and Test splits saved.\n"
     ]
    }
   ],
   "source": [
    "import re\n",
    "import string\n",
    "import pandas as pd\n",
    "from sklearn.feature_extraction.text import TfidfVectorizer\n",
    "from sklearn.model_selection import train_test_split\n",
    "\n",
    "# Load the dataset\n",
    "file_path = \"spam.csv\"\n",
    "df = pd.read_csv(file_path, encoding=\"latin-1\")\n",
    "\n",
    "# Select only the first two columns and rename them\n",
    "df = df.iloc[:, :2]  # Keeping only the first two columns\n",
    "df.columns = ['label', 'text']  # Rename columns\n",
    "\n",
    "# Convert labels to binary (ham = 0, spam = 1)\n",
    "df['label'] = df['label'].map({'ham': 0, 'spam': 1})\n",
    "\n",
    "# Text preprocessing function\n",
    "def clean_text(text):\n",
    "    text = text.lower()  # Convert to lowercase\n",
    "    text = re.sub(f\"[{string.punctuation}]\", \"\", text)  # Remove punctuation\n",
    "    text = re.sub(\"\\d+\", \"\", text)  # Remove digits\n",
    "    return text\n",
    "\n",
    "# Apply cleaning\n",
    "df['cleaned_text'] = df['text'].astype(str).apply(clean_text)\n",
    "\n",
    "# Tokenization & TF-IDF\n",
    "vectorizer = TfidfVectorizer(stop_words=\"english\")\n",
    "X = vectorizer.fit_transform(df['cleaned_text'])\n",
    "y = df['label']\n",
    "\n",
    "# Splitting the data (Train 70%, Validation 15%, Test 15%)\n",
    "X_train, X_temp, y_train, y_temp = train_test_split(X, y, test_size=0.3, random_state=42)\n",
    "X_val, X_test, y_val, y_test = train_test_split(X_temp, y_temp, test_size=0.5, random_state=42)\n",
    "\n",
    "# Create DataFrames for saving\n",
    "train_df = pd.DataFrame({'text': df['text'].iloc[y_train.index], 'label': y_train.values})\n",
    "val_df = pd.DataFrame({'text': df['text'].iloc[y_val.index], 'label': y_val.values})\n",
    "test_df = pd.DataFrame({'text': df['text'].iloc[y_test.index], 'label': y_test.values})\n",
    "\n",
    "# Save preprocessed splits\n",
    "train_df.to_csv(\"train.csv\", index=False)\n",
    "val_df.to_csv(\"validation.csv\", index=False)\n",
    "test_df.to_csv(\"test.csv\", index=False)\n",
    "\n",
    "print(\"Data preprocessing complete. Train, Validation, and Test splits saved.\")\n"
   ]
  }
 ],
 "metadata": {
  "kernelspec": {
   "display_name": "Python 3",
   "language": "python",
   "name": "python3"
  },
  "language_info": {
   "codemirror_mode": {
    "name": "ipython",
    "version": 3
   },
   "file_extension": ".py",
   "mimetype": "text/x-python",
   "name": "python",
   "nbconvert_exporter": "python",
   "pygments_lexer": "ipython3",
   "version": "3.11.3"
  }
 },
 "nbformat": 4,
 "nbformat_minor": 2
}
