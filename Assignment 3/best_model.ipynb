{
 "cells": [
  {
   "cell_type": "code",
   "execution_count": 2,
   "metadata": {},
   "outputs": [
    {
     "name": "stdout",
     "output_type": "stream",
     "text": [
      "Defaulting to user installation because normal site-packages is not writeable\n",
      "Requirement already satisfied: mlflow in c:\\users\\soumy\\appdata\\roaming\\python\\python311\\site-packages (2.21.3)\n",
      "Requirement already satisfied: scikit-learn in c:\\users\\soumy\\appdata\\roaming\\python\\python311\\site-packages (1.3.0)\n",
      "Requirement already satisfied: xgboost in c:\\users\\soumy\\appdata\\roaming\\python\\python311\\site-packages (3.0.0)\n",
      "Requirement already satisfied: pandas in c:\\users\\soumy\\appdata\\roaming\\python\\python311\\site-packages (2.0.1)\n",
      "Requirement already satisfied: numpy in c:\\users\\soumy\\appdata\\roaming\\python\\python311\\site-packages (1.26.4)\n",
      "Requirement already satisfied: mlflow-skinny==2.21.3 in c:\\users\\soumy\\appdata\\roaming\\python\\python311\\site-packages (from mlflow) (2.21.3)\n",
      "Requirement already satisfied: Flask<4 in c:\\users\\soumy\\appdata\\roaming\\python\\python311\\site-packages (from mlflow) (2.3.3)\n",
      "Requirement already satisfied: Jinja2<4,>=3.0 in c:\\users\\soumy\\appdata\\roaming\\python\\python311\\site-packages (from mlflow) (3.1.2)\n",
      "Requirement already satisfied: alembic!=1.10.0,<2 in c:\\users\\soumy\\appdata\\roaming\\python\\python311\\site-packages (from mlflow) (1.13.1)\n",
      "Requirement already satisfied: docker<8,>=4.0.0 in c:\\users\\soumy\\appdata\\roaming\\python\\python311\\site-packages (from mlflow) (7.1.0)\n",
      "Requirement already satisfied: graphene<4 in c:\\users\\soumy\\appdata\\roaming\\python\\python311\\site-packages (from mlflow) (3.4.3)\n",
      "Requirement already satisfied: markdown<4,>=3.3 in c:\\users\\soumy\\appdata\\roaming\\python\\python311\\site-packages (from mlflow) (3.5.1)\n",
      "Requirement already satisfied: matplotlib<4 in c:\\users\\soumy\\appdata\\roaming\\python\\python311\\site-packages (from mlflow) (3.7.1)\n",
      "Requirement already satisfied: pyarrow<20,>=4.0.0 in c:\\users\\soumy\\appdata\\roaming\\python\\python311\\site-packages (from mlflow) (16.1.0)\n",
      "Requirement already satisfied: scipy<2 in c:\\users\\soumy\\appdata\\roaming\\python\\python311\\site-packages (from mlflow) (1.11.1)\n",
      "Requirement already satisfied: sqlalchemy<3,>=1.4.0 in c:\\users\\soumy\\appdata\\roaming\\python\\python311\\site-packages (from mlflow) (2.0.30)\n",
      "Requirement already satisfied: waitress<4 in c:\\users\\soumy\\appdata\\roaming\\python\\python311\\site-packages (from mlflow) (3.0.2)\n",
      "Requirement already satisfied: cachetools<6,>=5.0.0 in c:\\users\\soumy\\appdata\\roaming\\python\\python311\\site-packages (from mlflow-skinny==2.21.3->mlflow) (5.3.2)\n",
      "Requirement already satisfied: click<9,>=7.0 in c:\\users\\soumy\\appdata\\roaming\\python\\python311\\site-packages (from mlflow-skinny==2.21.3->mlflow) (8.1.7)\n",
      "Requirement already satisfied: cloudpickle<4 in c:\\users\\soumy\\appdata\\roaming\\python\\python311\\site-packages (from mlflow-skinny==2.21.3->mlflow) (3.1.1)\n",
      "Requirement already satisfied: databricks-sdk<1,>=0.20.0 in c:\\users\\soumy\\appdata\\roaming\\python\\python311\\site-packages (from mlflow-skinny==2.21.3->mlflow) (0.49.0)\n",
      "Requirement already satisfied: fastapi<1 in c:\\users\\soumy\\appdata\\roaming\\python\\python311\\site-packages (from mlflow-skinny==2.21.3->mlflow) (0.110.3)\n",
      "Requirement already satisfied: gitpython<4,>=3.1.9 in c:\\users\\soumy\\appdata\\roaming\\python\\python311\\site-packages (from mlflow-skinny==2.21.3->mlflow) (3.1.43)\n",
      "Requirement already satisfied: importlib_metadata!=4.7.0,<9,>=3.7.0 in c:\\users\\soumy\\appdata\\roaming\\python\\python311\\site-packages (from mlflow-skinny==2.21.3->mlflow) (7.0.0)\n",
      "Requirement already satisfied: opentelemetry-api<3,>=1.9.0 in c:\\users\\soumy\\appdata\\roaming\\python\\python311\\site-packages (from mlflow-skinny==2.21.3->mlflow) (1.24.0)\n",
      "Requirement already satisfied: opentelemetry-sdk<3,>=1.9.0 in c:\\users\\soumy\\appdata\\roaming\\python\\python311\\site-packages (from mlflow-skinny==2.21.3->mlflow) (1.24.0)\n",
      "Requirement already satisfied: packaging<25 in c:\\users\\soumy\\appdata\\roaming\\python\\python311\\site-packages (from mlflow-skinny==2.21.3->mlflow) (23.2)\n",
      "Requirement already satisfied: protobuf<6,>=3.12.0 in c:\\users\\soumy\\appdata\\roaming\\python\\python311\\site-packages (from mlflow-skinny==2.21.3->mlflow) (4.25.0)\n",
      "Requirement already satisfied: pydantic<3,>=1.10.8 in c:\\users\\soumy\\appdata\\roaming\\python\\python311\\site-packages (from mlflow-skinny==2.21.3->mlflow) (2.7.1)\n",
      "Requirement already satisfied: pyyaml<7,>=5.1 in c:\\users\\soumy\\appdata\\roaming\\python\\python311\\site-packages (from mlflow-skinny==2.21.3->mlflow) (6.0.1)\n",
      "Requirement already satisfied: requests<3,>=2.17.3 in c:\\users\\soumy\\appdata\\roaming\\python\\python311\\site-packages (from mlflow-skinny==2.21.3->mlflow) (2.32.3)\n",
      "Requirement already satisfied: sqlparse<1,>=0.4.0 in c:\\users\\soumy\\appdata\\roaming\\python\\python311\\site-packages (from mlflow-skinny==2.21.3->mlflow) (0.5.3)\n",
      "Requirement already satisfied: typing-extensions<5,>=4.0.0 in c:\\users\\soumy\\appdata\\roaming\\python\\python311\\site-packages (from mlflow-skinny==2.21.3->mlflow) (4.12.1)\n",
      "Requirement already satisfied: uvicorn<1 in c:\\users\\soumy\\appdata\\roaming\\python\\python311\\site-packages (from mlflow-skinny==2.21.3->mlflow) (0.29.0)\n",
      "Requirement already satisfied: joblib>=1.1.1 in c:\\users\\soumy\\appdata\\roaming\\python\\python311\\site-packages (from scikit-learn) (1.3.2)\n",
      "Requirement already satisfied: threadpoolctl>=2.0.0 in c:\\users\\soumy\\appdata\\roaming\\python\\python311\\site-packages (from scikit-learn) (3.2.0)\n",
      "Requirement already satisfied: python-dateutil>=2.8.2 in c:\\users\\soumy\\appdata\\roaming\\python\\python311\\site-packages (from pandas) (2.8.2)\n",
      "Requirement already satisfied: pytz>=2020.1 in c:\\users\\soumy\\appdata\\roaming\\python\\python311\\site-packages (from pandas) (2023.3)\n",
      "Requirement already satisfied: tzdata>=2022.1 in c:\\users\\soumy\\appdata\\roaming\\python\\python311\\site-packages (from pandas) (2023.3)\n",
      "Requirement already satisfied: Mako in c:\\users\\soumy\\appdata\\roaming\\python\\python311\\site-packages (from alembic!=1.10.0,<2->mlflow) (1.3.5)\n",
      "Requirement already satisfied: pywin32>=304 in c:\\users\\soumy\\appdata\\roaming\\python\\python311\\site-packages (from docker<8,>=4.0.0->mlflow) (306)\n",
      "Requirement already satisfied: urllib3>=1.26.0 in c:\\users\\soumy\\appdata\\roaming\\python\\python311\\site-packages (from docker<8,>=4.0.0->mlflow) (2.0.4)\n",
      "Requirement already satisfied: Werkzeug>=2.3.7 in c:\\users\\soumy\\appdata\\roaming\\python\\python311\\site-packages (from Flask<4->mlflow) (2.3.7)\n",
      "Requirement already satisfied: itsdangerous>=2.1.2 in c:\\users\\soumy\\appdata\\roaming\\python\\python311\\site-packages (from Flask<4->mlflow) (2.1.2)\n",
      "Requirement already satisfied: blinker>=1.6.2 in c:\\users\\soumy\\appdata\\roaming\\python\\python311\\site-packages (from Flask<4->mlflow) (1.6.2)\n",
      "Requirement already satisfied: graphql-core<3.3,>=3.1 in c:\\users\\soumy\\appdata\\roaming\\python\\python311\\site-packages (from graphene<4->mlflow) (3.2.3)\n",
      "Requirement already satisfied: graphql-relay<3.3,>=3.1 in c:\\users\\soumy\\appdata\\roaming\\python\\python311\\site-packages (from graphene<4->mlflow) (3.2.0)\n",
      "Requirement already satisfied: MarkupSafe>=2.0 in c:\\users\\soumy\\appdata\\roaming\\python\\python311\\site-packages (from Jinja2<4,>=3.0->mlflow) (2.1.3)\n",
      "Requirement already satisfied: contourpy>=1.0.1 in c:\\users\\soumy\\appdata\\roaming\\python\\python311\\site-packages (from matplotlib<4->mlflow) (1.1.0)\n",
      "Requirement already satisfied: cycler>=0.10 in c:\\users\\soumy\\appdata\\roaming\\python\\python311\\site-packages (from matplotlib<4->mlflow) (0.11.0)\n",
      "Requirement already satisfied: fonttools>=4.22.0 in c:\\users\\soumy\\appdata\\roaming\\python\\python311\\site-packages (from matplotlib<4->mlflow) (4.40.0)\n",
      "Requirement already satisfied: kiwisolver>=1.0.1 in c:\\users\\soumy\\appdata\\roaming\\python\\python311\\site-packages (from matplotlib<4->mlflow) (1.4.4)\n",
      "Requirement already satisfied: pillow>=6.2.0 in c:\\users\\soumy\\appdata\\roaming\\python\\python311\\site-packages (from matplotlib<4->mlflow) (10.3.0)\n",
      "Requirement already satisfied: pyparsing>=2.3.1 in c:\\users\\soumy\\appdata\\roaming\\python\\python311\\site-packages (from matplotlib<4->mlflow) (3.0.9)\n",
      "Requirement already satisfied: six>=1.5 in c:\\users\\soumy\\appdata\\roaming\\python\\python311\\site-packages (from python-dateutil>=2.8.2->pandas) (1.16.0)\n",
      "Requirement already satisfied: greenlet!=0.4.17 in c:\\users\\soumy\\appdata\\roaming\\python\\python311\\site-packages (from sqlalchemy<3,>=1.4.0->mlflow) (3.0.3)\n",
      "Requirement already satisfied: colorama in c:\\users\\soumy\\appdata\\roaming\\python\\python311\\site-packages (from click<9,>=7.0->mlflow-skinny==2.21.3->mlflow) (0.4.6)\n",
      "Requirement already satisfied: google-auth~=2.0 in c:\\users\\soumy\\appdata\\roaming\\python\\python311\\site-packages (from databricks-sdk<1,>=0.20.0->mlflow-skinny==2.21.3->mlflow) (2.29.0)\n",
      "Requirement already satisfied: starlette<0.38.0,>=0.37.2 in c:\\users\\soumy\\appdata\\roaming\\python\\python311\\site-packages (from fastapi<1->mlflow-skinny==2.21.3->mlflow) (0.37.2)\n",
      "Requirement already satisfied: gitdb<5,>=4.0.1 in c:\\users\\soumy\\appdata\\roaming\\python\\python311\\site-packages (from gitpython<4,>=3.1.9->mlflow-skinny==2.21.3->mlflow) (4.0.11)\n",
      "Requirement already satisfied: zipp>=0.5 in c:\\users\\soumy\\appdata\\roaming\\python\\python311\\site-packages (from importlib_metadata!=4.7.0,<9,>=3.7.0->mlflow-skinny==2.21.3->mlflow) (3.18.2)\n",
      "Requirement already satisfied: deprecated>=1.2.6 in c:\\users\\soumy\\appdata\\roaming\\python\\python311\\site-packages (from opentelemetry-api<3,>=1.9.0->mlflow-skinny==2.21.3->mlflow) (1.2.14)\n",
      "Requirement already satisfied: opentelemetry-semantic-conventions==0.45b0 in c:\\users\\soumy\\appdata\\roaming\\python\\python311\\site-packages (from opentelemetry-sdk<3,>=1.9.0->mlflow-skinny==2.21.3->mlflow) (0.45b0)\n",
      "Requirement already satisfied: annotated-types>=0.4.0 in c:\\users\\soumy\\appdata\\roaming\\python\\python311\\site-packages (from pydantic<3,>=1.10.8->mlflow-skinny==2.21.3->mlflow) (0.7.0)\n",
      "Requirement already satisfied: pydantic-core==2.18.2 in c:\\users\\soumy\\appdata\\roaming\\python\\python311\\site-packages (from pydantic<3,>=1.10.8->mlflow-skinny==2.21.3->mlflow) (2.18.2)\n",
      "Requirement already satisfied: charset-normalizer<4,>=2 in c:\\users\\soumy\\appdata\\roaming\\python\\python311\\site-packages (from requests<3,>=2.17.3->mlflow-skinny==2.21.3->mlflow) (3.2.0)\n",
      "Requirement already satisfied: idna<4,>=2.5 in c:\\users\\soumy\\appdata\\roaming\\python\\python311\\site-packages (from requests<3,>=2.17.3->mlflow-skinny==2.21.3->mlflow) (3.4)\n",
      "Requirement already satisfied: certifi>=2017.4.17 in c:\\users\\soumy\\appdata\\roaming\\python\\python311\\site-packages (from requests<3,>=2.17.3->mlflow-skinny==2.21.3->mlflow) (2023.7.22)\n",
      "Requirement already satisfied: h11>=0.8 in c:\\users\\soumy\\appdata\\roaming\\python\\python311\\site-packages (from uvicorn<1->mlflow-skinny==2.21.3->mlflow) (0.14.0)\n",
      "Requirement already satisfied: wrapt<2,>=1.10 in c:\\users\\soumy\\appdata\\roaming\\python\\python311\\site-packages (from deprecated>=1.2.6->opentelemetry-api<3,>=1.9.0->mlflow-skinny==2.21.3->mlflow) (1.14.1)\n",
      "Requirement already satisfied: smmap<6,>=3.0.1 in c:\\users\\soumy\\appdata\\roaming\\python\\python311\\site-packages (from gitdb<5,>=4.0.1->gitpython<4,>=3.1.9->mlflow-skinny==2.21.3->mlflow) (5.0.1)\n",
      "Requirement already satisfied: pyasn1-modules>=0.2.1 in c:\\users\\soumy\\appdata\\roaming\\python\\python311\\site-packages (from google-auth~=2.0->databricks-sdk<1,>=0.20.0->mlflow-skinny==2.21.3->mlflow) (0.3.0)\n",
      "Requirement already satisfied: rsa<5,>=3.1.4 in c:\\users\\soumy\\appdata\\roaming\\python\\python311\\site-packages (from google-auth~=2.0->databricks-sdk<1,>=0.20.0->mlflow-skinny==2.21.3->mlflow) (4.9)\n",
      "Requirement already satisfied: anyio<5,>=3.4.0 in c:\\users\\soumy\\appdata\\roaming\\python\\python311\\site-packages (from starlette<0.38.0,>=0.37.2->fastapi<1->mlflow-skinny==2.21.3->mlflow) (4.0.0)\n",
      "Requirement already satisfied: sniffio>=1.1 in c:\\users\\soumy\\appdata\\roaming\\python\\python311\\site-packages (from anyio<5,>=3.4.0->starlette<0.38.0,>=0.37.2->fastapi<1->mlflow-skinny==2.21.3->mlflow) (1.3.0)\n",
      "Requirement already satisfied: pyasn1<0.6.0,>=0.4.6 in c:\\users\\soumy\\appdata\\roaming\\python\\python311\\site-packages (from pyasn1-modules>=0.2.1->google-auth~=2.0->databricks-sdk<1,>=0.20.0->mlflow-skinny==2.21.3->mlflow) (0.5.0)\n"
     ]
    }
   ],
   "source": [
    "! pip install mlflow scikit-learn xgboost pandas numpy"
   ]
  },
  {
   "cell_type": "code",
   "execution_count": 3,
   "metadata": {},
   "outputs": [],
   "source": [
    "import pandas as pd\n",
    "import numpy as np\n",
    "from sklearn.model_selection import train_test_split\n",
    "from sklearn.feature_extraction.text import TfidfVectorizer\n",
    "from sklearn.linear_model import LogisticRegression\n",
    "from sklearn.ensemble import RandomForestClassifier\n",
    "from xgboost import XGBClassifier\n",
    "from sklearn.metrics import precision_recall_curve, auc\n",
    "import mlflow\n",
    "import mlflow.sklearn\n",
    "import joblib"
   ]
  },
  {
   "cell_type": "code",
   "execution_count": 4,
   "metadata": {},
   "outputs": [
    {
     "name": "stdout",
     "output_type": "stream",
     "text": [
      " Volume in drive C is Windows\n",
      " Volume Serial Number is E26E-0A81\n",
      "\n",
      " Directory of c:\\Users\\soumy\\Downloads\\Assignment 3\n",
      "\n",
      "09-04-2025  16:44    <DIR>          .\n",
      "09-04-2025  16:44    <DIR>          ..\n",
      "09-04-2025  16:45    <DIR>          __pycache__\n",
      "09-04-2025  16:45               725 app.py\n",
      "09-04-2025  16:38            23,581 best_model.ipynb\n",
      "09-04-2025  16:42         4,163,458 best_model.joblib\n",
      "09-04-2025  16:41    <DIR>          mlruns\n",
      "09-04-2025  16:43               721 score.py\n",
      "09-04-2025  16:25            57,527 test.csv\n",
      "09-04-2025  16:43             3,692 test.py\n",
      "09-04-2025  16:24           172,124 train.csv\n",
      "09-04-2025  16:25            57,222 validation.csv\n",
      "               8 File(s)      4,479,050 bytes\n",
      "               4 Dir(s)  47,824,965,632 bytes free\n"
     ]
    }
   ],
   "source": [
    "ls"
   ]
  },
  {
   "cell_type": "code",
   "execution_count": 6,
   "metadata": {},
   "outputs": [],
   "source": [
    "# Load the saved splits\n",
    "train = pd.read_csv(\"train.csv\").dropna()\n",
    "validation = pd.read_csv(\"validation.csv\").dropna()\n",
    "test = pd.read_csv(\"test.csv\").dropna()\n",
    "\n",
    "# Prepare features and labels\n",
    "X_train, y_train = train[\"Message\"], train[\"Label\"]\n",
    "X_val, y_val = validation[\"Message\"], validation[\"Label\"]\n",
    "X_test, y_test = test[\"Message\"], test[\"Label\"]\n",
    "\n",
    "# Convert text data to TF-IDF features\n",
    "vectorizer = TfidfVectorizer(max_features=5000)\n",
    "X_train_tfidf = vectorizer.fit_transform(X_train)\n",
    "X_val_tfidf = vectorizer.transform(X_val)\n",
    "X_test_tfidf = vectorizer.transform(X_test)\n"
   ]
  },
  {
   "cell_type": "code",
   "execution_count": 7,
   "metadata": {},
   "outputs": [],
   "source": [
    "def calculate_aucpr(y_true, y_pred_proba):\n",
    "    precision, recall, _ = precision_recall_curve(y_true, y_pred_proba)\n",
    "    return auc(recall, precision)\n"
   ]
  },
  {
   "cell_type": "code",
   "execution_count": 8,
   "metadata": {},
   "outputs": [
    {
     "name": "stdout",
     "output_type": "stream",
     "text": [
      "Logistic Regression - Validation AUCPR: 0.9435203787965679\n",
      "Logistic Regression - Test AUCPR: 0.9311391771644204\n"
     ]
    },
    {
     "name": "stderr",
     "output_type": "stream",
     "text": [
      "2025/04/09 16:56:26 WARNING mlflow.models.model: Model logged without a signature and input example. Please set `input_example` parameter when logging the model to auto infer the model signature.\n"
     ]
    },
    {
     "name": "stdout",
     "output_type": "stream",
     "text": [
      "Random Forest - Validation AUCPR: 0.9485277845417935\n",
      "Random Forest - Test AUCPR: 0.9675692370563139\n"
     ]
    },
    {
     "name": "stderr",
     "output_type": "stream",
     "text": [
      "2025/04/09 16:56:31 WARNING mlflow.models.model: Model logged without a signature and input example. Please set `input_example` parameter when logging the model to auto infer the model signature.\n",
      "C:\\Users\\soumy\\AppData\\Roaming\\Python\\Python311\\site-packages\\xgboost\\training.py:183: UserWarning: [16:56:32] WARNING: C:\\actions-runner\\_work\\xgboost\\xgboost\\src\\learner.cc:738: \n",
      "Parameters: { \"use_label_encoder\" } are not used.\n",
      "\n",
      "  bst.update(dtrain, iteration=i, fobj=obj)\n"
     ]
    },
    {
     "name": "stdout",
     "output_type": "stream",
     "text": [
      "XGBoost - Validation AUCPR: 0.8920490150123725\n",
      "XGBoost - Test AUCPR: 0.8939017016366597\n"
     ]
    },
    {
     "name": "stderr",
     "output_type": "stream",
     "text": [
      "2025/04/09 16:56:35 WARNING mlflow.models.model: Model logged without a signature and input example. Please set `input_example` parameter when logging the model to auto infer the model signature.\n"
     ]
    }
   ],
   "source": [
    "# Define the models to evaluate\n",
    "models = {\n",
    "    \"Logistic Regression\": LogisticRegression(),\n",
    "    \"Random Forest\": RandomForestClassifier(),\n",
    "    \"XGBoost\": XGBClassifier(use_label_encoder=False, eval_metric=\"logloss\")\n",
    "}\n",
    "\n",
    "# Start MLflow experiment\n",
    "mlflow.set_experiment(\"Spam_Ham_Classification\")\n",
    "\n",
    "for model_name, model in models.items():\n",
    "    with mlflow.start_run():\n",
    "        # Train the model on the training set\n",
    "        model.fit(X_train_tfidf, y_train)\n",
    "\n",
    "        # Predict probabilities on the validation set\n",
    "        y_val_pred_proba = model.predict_proba(X_val_tfidf)[:, 1]\n",
    "\n",
    "        # Calculate AUCPR on the validation set\n",
    "        val_aucpr = calculate_aucpr(y_val, y_val_pred_proba)\n",
    "        print(f\"{model_name} - Validation AUCPR: {val_aucpr}\")\n",
    "\n",
    "        # Log validation metrics\n",
    "        mlflow.log_metric(\"Validation_AUCPR\", val_aucpr)\n",
    "\n",
    "        # Predict probabilities on the test set\n",
    "        y_test_pred_proba = model.predict_proba(X_test_tfidf)[:, 1]\n",
    "\n",
    "        # Calculate AUCPR on the test set\n",
    "        test_aucpr = calculate_aucpr(y_test, y_test_pred_proba)\n",
    "        print(f\"{model_name} - Test AUCPR: {test_aucpr}\")\n",
    "\n",
    "        # Log test metrics\n",
    "        mlflow.log_metric(\"Test_AUCPR\", test_aucpr)\n",
    "\n",
    "        # Log the model\n",
    "        mlflow.sklearn.log_model(model, model_name)"
   ]
  },
  {
   "cell_type": "code",
   "execution_count": 9,
   "metadata": {},
   "outputs": [
    {
     "name": "stdout",
     "output_type": "stream",
     "text": [
      "Model: spiffy-bass-377, Validation AUCPR: 0.8920490150123725, Test AUCPR: 0.8939017016366597\n",
      "Model: hilarious-zebra-468, Validation AUCPR: 0.9485277845417935, Test AUCPR: 0.9675692370563139\n",
      "Model: wise-shrike-233, Validation AUCPR: 0.9435203787965679, Test AUCPR: 0.9311391771644204\n",
      "Model: amusing-wolf-53, Validation AUCPR: nan, Test AUCPR: nan\n",
      "Model: mysterious-mole-855, Validation AUCPR: 0.8920490150123725, Test AUCPR: 0.8939017016366597\n",
      "Model: flawless-gnu-194, Validation AUCPR: 0.9495848297996785, Test AUCPR: 0.9683186020975065\n",
      "Model: wistful-jay-646, Validation AUCPR: 0.9435203787965679, Test AUCPR: 0.9311391771644204\n"
     ]
    }
   ],
   "source": [
    "# Retrieve runs and print AUCPR\n",
    "experiment_id = mlflow.get_experiment_by_name(\"Spam_Ham_Classification\").experiment_id\n",
    "runs = mlflow.search_runs(experiment_id)\n",
    "\n",
    "for _, run in runs.iterrows():\n",
    "    print(f\"Model: {run['tags.mlflow.runName']}, Validation AUCPR: {run['metrics.Validation_AUCPR']}, Test AUCPR: {run['metrics.Test_AUCPR']}\")"
   ]
  },
  {
   "cell_type": "code",
   "execution_count": 10,
   "metadata": {},
   "outputs": [
    {
     "name": "stdout",
     "output_type": "stream",
     "text": [
      "Best run ID: f4ea130e6f9b4e6e8ca1472db087fea5\n"
     ]
    }
   ],
   "source": [
    "# Step 1: Get the experiment and all runs\n",
    "experiment_id = mlflow.get_experiment_by_name(\"Spam_Ham_Classification\").experiment_id\n",
    "runs = mlflow.search_runs(experiment_id)\n",
    "\n",
    "# Step 2: Select best run based on Validation AUCPR\n",
    "best_run = runs.loc[runs[\"metrics.Validation_AUCPR\"].idxmax()]\n",
    "best_run_id = best_run[\"run_id\"]\n",
    "\n",
    "print(f\"Best run ID: {best_run_id}\")\n"
   ]
  },
  {
   "cell_type": "code",
   "execution_count": 11,
   "metadata": {},
   "outputs": [
    {
     "name": "stdout",
     "output_type": "stream",
     "text": [
      "Model downloaded to: C:\\Users\\soumy\\Downloads\\Assignment 3\\mlruns\\705379048845976499\\f4ea130e6f9b4e6e8ca1472db087fea5\\artifacts\\Random Forest\n"
     ]
    }
   ],
   "source": [
    "# Step 3: Specify the path where the model is saved in the run artifacts\n",
    "model_artifact_path = \"Random Forest\" \n",
    "\n",
    "# Step 4: Download it to a temporary directory\n",
    "local_path = mlflow.artifacts.download_artifacts(run_id=best_run_id, artifact_path=model_artifact_path)\n",
    "print(f\"Model downloaded to: {local_path}\")"
   ]
  },
  {
   "cell_type": "code",
   "execution_count": 12,
   "metadata": {},
   "outputs": [
    {
     "name": "stdout",
     "output_type": "stream",
     "text": [
      "✅ Saved full pipeline as 'best_model.joblib'\n"
     ]
    },
    {
     "name": "stderr",
     "output_type": "stream",
     "text": [
      "2025/04/09 16:56:56 WARNING mlflow.models.model: Model logged without a signature and input example. Please set `input_example` parameter when logging the model to auto infer the model signature.\n"
     ]
    },
    {
     "name": "stdout",
     "output_type": "stream",
     "text": [
      "📦 Logged pipeline model to MLflow as 'Spam_Ham_Pipeline'\n"
     ]
    }
   ],
   "source": [
    "# Step 5: Load the sklearn model from the downloaded path\n",
    "model = mlflow.sklearn.load_model(local_path)\n",
    "\n",
    "from sklearn.pipeline import Pipeline\n",
    "import joblib\n",
    "import mlflow\n",
    "import mlflow.sklearn\n",
    "\n",
    "# Combine vectorizer and model into a pipeline\n",
    "pipeline = Pipeline([\n",
    "    (\"tfidf\", vectorizer),\n",
    "    (\"classifier\", model)\n",
    "])\n",
    "\n",
    "# Save pipeline locally\n",
    "joblib.dump(pipeline, \"best_model.joblib\")\n",
    "print(\"✅ Saved full pipeline as 'best_model.joblib'\")\n",
    "\n",
    "# Optionally log to MLflow (inside active run or standalone)\n",
    "mlflow.sklearn.log_model(pipeline, \"Spam_Ham_Pipeline\")\n",
    "print(\"📦 Logged pipeline model to MLflow as 'Spam_Ham_Pipeline'\")\n"
   ]
  },
  {
   "cell_type": "code",
   "execution_count": 13,
   "metadata": {},
   "outputs": [],
   "source": [
    "model = joblib.load(\"best_model.joblib\")"
   ]
  },
  {
   "cell_type": "code",
   "execution_count": 14,
   "metadata": {},
   "outputs": [
    {
     "name": "stdout",
     "output_type": "stream",
     "text": [
      "{'app': 'Spamseek', 'prediction': 0, 'propensity': 0.34}\n"
     ]
    }
   ],
   "source": [
    "import requests\n",
    "\n",
    "url = \"http://127.0.0.1:5000/score\"\n",
    "data = {\n",
    "    \"text\": \"You won a free prize!\",\n",
    "    \"threshold\": 0.5\n",
    "}\n",
    "\n",
    "response = requests.post(url, json=data)\n",
    "print(response.json())\n"
   ]
  }
 ],
 "metadata": {
  "kernelspec": {
   "display_name": "Python 3",
   "language": "python",
   "name": "python3"
  },
  "language_info": {
   "codemirror_mode": {
    "name": "ipython",
    "version": 3
   },
   "file_extension": ".py",
   "mimetype": "text/x-python",
   "name": "python",
   "nbconvert_exporter": "python",
   "pygments_lexer": "ipython3",
   "version": "3.11.3"
  }
 },
 "nbformat": 4,
 "nbformat_minor": 2
}
