{
 "cells": [
  {
   "cell_type": "markdown",
   "metadata": {},
   "source": [
    "## Name: Soumya Dasgupta\n",
    "## Roll No: MDS202348"
   ]
  },
  {
   "cell_type": "markdown",
   "metadata": {},
   "source": [
    "### Part - 01 DVC"
   ]
  },
  {
   "cell_type": "markdown",
   "metadata": {},
   "source": [
    "- Import the data"
   ]
  },
  {
   "cell_type": "code",
   "execution_count": 26,
   "metadata": {},
   "outputs": [
    {
     "name": "stdout",
     "output_type": "stream",
     "text": [
      "Raw data saved as data/raw_data.csv\n"
     ]
    }
   ],
   "source": [
    "import pandas as pd\n",
    "from sklearn.model_selection import train_test_split\n",
    "import csv\n",
    "\n",
    "# Load the data\n",
    "df = pd.read_csv('data/SMSSpamCollection', sep='\\t', names=['label', 'sms'],quoting=csv.QUOTE_NONE)\n",
    "\n",
    "# Save the raw data\n",
    "df.to_csv('data/raw_data.csv', index=False)\n",
    "print(\"Raw data saved as data/raw_data.csv\")"
   ]
  },
  {
   "cell_type": "code",
   "execution_count": 27,
   "metadata": {},
   "outputs": [
    {
     "data": {
      "text/html": [
       "<div>\n",
       "<style scoped>\n",
       "    .dataframe tbody tr th:only-of-type {\n",
       "        vertical-align: middle;\n",
       "    }\n",
       "\n",
       "    .dataframe tbody tr th {\n",
       "        vertical-align: top;\n",
       "    }\n",
       "\n",
       "    .dataframe thead th {\n",
       "        text-align: right;\n",
       "    }\n",
       "</style>\n",
       "<table border=\"1\" class=\"dataframe\">\n",
       "  <thead>\n",
       "    <tr style=\"text-align: right;\">\n",
       "      <th></th>\n",
       "      <th>label</th>\n",
       "      <th>sms</th>\n",
       "    </tr>\n",
       "  </thead>\n",
       "  <tbody>\n",
       "    <tr>\n",
       "      <th>984</th>\n",
       "      <td>ham</td>\n",
       "      <td>LOOK AT THE FUCKIN TIME. WHAT THE FUCK YOU THI...</td>\n",
       "    </tr>\n",
       "    <tr>\n",
       "      <th>2390</th>\n",
       "      <td>ham</td>\n",
       "      <td>Boo. How's things? I'm back at home and a litt...</td>\n",
       "    </tr>\n",
       "    <tr>\n",
       "      <th>4587</th>\n",
       "      <td>spam</td>\n",
       "      <td>Mila, age23, blonde, new in UK. I look sex wit...</td>\n",
       "    </tr>\n",
       "    <tr>\n",
       "      <th>3795</th>\n",
       "      <td>ham</td>\n",
       "      <td>Short But Cute: \"Be a good person, but dont tr...</td>\n",
       "    </tr>\n",
       "    <tr>\n",
       "      <th>4841</th>\n",
       "      <td>spam</td>\n",
       "      <td>PRIVATE! Your 2003 Account Statement for shows...</td>\n",
       "    </tr>\n",
       "  </tbody>\n",
       "</table>\n",
       "</div>"
      ],
      "text/plain": [
       "     label                                                sms\n",
       "984    ham  LOOK AT THE FUCKIN TIME. WHAT THE FUCK YOU THI...\n",
       "2390   ham  Boo. How's things? I'm back at home and a litt...\n",
       "4587  spam  Mila, age23, blonde, new in UK. I look sex wit...\n",
       "3795   ham  Short But Cute: \"Be a good person, but dont tr...\n",
       "4841  spam  PRIVATE! Your 2003 Account Statement for shows..."
      ]
     },
     "execution_count": 27,
     "metadata": {},
     "output_type": "execute_result"
    }
   ],
   "source": [
    "df.sample(5)"
   ]
  },
  {
   "cell_type": "markdown",
   "metadata": {},
   "source": [
    "- Split the data"
   ]
  },
  {
   "cell_type": "code",
   "execution_count": 28,
   "metadata": {},
   "outputs": [
    {
     "name": "stdout",
     "output_type": "stream",
     "text": [
      "Train size: 3901, Validation size: 836, Test size: 837\n"
     ]
    }
   ],
   "source": [
    "# Split the data: 70% train, 15% validation, 15% test\n",
    "train_df, temp_df = train_test_split(df, test_size=0.3, random_state=43)\n",
    "validation_df, test_df = train_test_split(temp_df, test_size=0.5, random_state=43)\n",
    "\n",
    "# Save the splits\n",
    "train_df.to_csv('data/train.csv', index=False)\n",
    "validation_df.to_csv('data/validation.csv', index=False)\n",
    "test_df.to_csv('data/test.csv', index=False)\n",
    "\n",
    "print(f\"Train size: {len(train_df)}, Validation size: {len(validation_df)}, Test size: {len(test_df)}\")"
   ]
  },
  {
   "cell_type": "markdown",
   "metadata": {},
   "source": [
    "- Initialize Git and DVC"
   ]
  },
  {
   "cell_type": "code",
   "execution_count": 29,
   "metadata": {},
   "outputs": [
    {
     "name": "stdout",
     "output_type": "stream",
     "text": [
      "Reinitialized existing Git repository in D:/CMI/SEM4/AML/Assignment_2/.git/\n",
      "Initialized DVC repository.\n",
      "\n",
      "You can now commit the changes to git.\n",
      "\n",
      "+---------------------------------------------------------------------+\n",
      "|                                                                     |\n",
      "|        DVC has enabled anonymous aggregate usage analytics.         |\n",
      "|     Read the analytics documentation (and how to opt-out) here:     |\n",
      "|             <https://dvc.org/doc/user-guide/analytics>              |\n",
      "|                                                                     |\n",
      "+---------------------------------------------------------------------+\n",
      "\n",
      "What's next?\n",
      "------------\n",
      "- Check out the documentation: <https://dvc.org/doc>\n",
      "- Get help and share ideas: <https://dvc.org/chat>\n",
      "- Star us on GitHub: <https://github.com/iterative/dvc>\n"
     ]
    }
   ],
   "source": [
    "!git init\n",
    "!dvc init"
   ]
  },
  {
   "cell_type": "markdown",
   "metadata": {},
   "source": [
    "- Using Service Account"
   ]
  },
  {
   "cell_type": "code",
   "execution_count": 30,
   "metadata": {},
   "outputs": [
    {
     "name": "stdout",
     "output_type": "stream",
     "text": [
      "Setting 'storage' as a default remote.\n"
     ]
    }
   ],
   "source": [
    "!dvc remote add -d storage gdrive://1MyynvH_MK3E64B7d8pN7NPKEQU92cnbT\n",
    "!dvc remote modify storage gdrive_use_service_account true\n",
    "!dvc remote modify storage gdrive_service_account_json_file_path dvc.json"
   ]
  },
  {
   "cell_type": "markdown",
   "metadata": {},
   "source": [
    "- Pushing raw_data.csv"
   ]
  },
  {
   "cell_type": "code",
   "execution_count": 31,
   "metadata": {},
   "outputs": [
    {
     "name": "stdout",
     "output_type": "stream",
     "text": [
      "\n",
      "To track the changes with git, run:\n",
      "\n",
      "\tgit add 'data\\raw_data.csv.dvc'\n",
      "\n",
      "To enable auto staging, run:\n",
      "\n",
      "\tdvc config core.autostage true\n"
     ]
    },
    {
     "name": "stderr",
     "output_type": "stream",
     "text": [
      "⠋ Checking graph\n",
      "\n"
     ]
    },
    {
     "name": "stdout",
     "output_type": "stream",
     "text": [
      "HEAD detached at 3f2ec5f\n",
      "Changes not staged for commit:\n",
      "  (use \"git add <file>...\" to update what will be committed)\n",
      "  (use \"git restore <file>...\" to discard changes in working directory)\n",
      "\tmodified:   .dvc/config\n",
      "\n",
      "Untracked files:\n",
      "  (use \"git add <file>...\" to include in what will be committed)\n",
      "\tdata/SMSSpamCollection\n",
      "\tdvc.json\n",
      "\tmlruns/\n",
      "\tprepare.ipynb\n",
      "\ttrain.ipynb\n",
      "\n",
      "no changes added to commit (use \"git add\" and/or \"git commit -a\")\n",
      "Everything is up to date.\n"
     ]
    }
   ],
   "source": [
    "!dvc add data/raw_data.csv\n",
    "!git add data/raw_data.csv.dvc data/.gitignore\n",
    "!git commit -m \"Track data/raw_data.csv using DVC\"\n",
    "!dvc push"
   ]
  },
  {
   "cell_type": "markdown",
   "metadata": {},
   "source": [
    "- Pushing train, test and validation data to dvc (1st Time)"
   ]
  },
  {
   "cell_type": "code",
   "execution_count": 32,
   "metadata": {},
   "outputs": [
    {
     "name": "stdout",
     "output_type": "stream",
     "text": [
      "\n",
      "To track the changes with git, run:\n",
      "\n",
      "\tgit add 'data\\train.csv.dvc'\n",
      "\n",
      "To enable auto staging, run:\n",
      "\n",
      "\tdvc config core.autostage true\n"
     ]
    },
    {
     "name": "stderr",
     "output_type": "stream",
     "text": [
      "⠋ Checking graph\n",
      "\n"
     ]
    },
    {
     "name": "stdout",
     "output_type": "stream",
     "text": [
      "\n",
      "To track the changes with git, run:\n",
      "\n",
      "\tgit add 'data\\validation.csv.dvc'\n",
      "\n",
      "To enable auto staging, run:\n",
      "\n",
      "\tdvc config core.autostage true\n"
     ]
    },
    {
     "name": "stderr",
     "output_type": "stream",
     "text": [
      "⠋ Checking graph\n",
      "\n"
     ]
    },
    {
     "name": "stdout",
     "output_type": "stream",
     "text": [
      "\n",
      "To track the changes with git, run:\n",
      "\n",
      "\tgit add 'data\\test.csv.dvc'\n",
      "\n",
      "To enable auto staging, run:\n",
      "\n",
      "\tdvc config core.autostage true\n"
     ]
    },
    {
     "name": "stderr",
     "output_type": "stream",
     "text": [
      "⠋ Checking graph\n",
      "\n"
     ]
    },
    {
     "name": "stdout",
     "output_type": "stream",
     "text": [
      "[detached HEAD 7f6e93d] Track data/train, data/validation, and data/test splits using DVC\n",
      " 3 files changed, 6 insertions(+), 6 deletions(-)\n",
      "3 files pushed\n"
     ]
    }
   ],
   "source": [
    "!dvc add data/train.csv\n",
    "!dvc add data/validation.csv\n",
    "!dvc add data/test.csv\n",
    "\n",
    "!git add data/train.csv.dvc data/validation.csv.dvc data/test.csv.dvc data/.gitignore\n",
    "!git commit -m \"Track data/train, data/validation, and data/test splits using DVC\"\n",
    "\n",
    "!dvc push"
   ]
  },
  {
   "cell_type": "markdown",
   "metadata": {},
   "source": [
    "- The distribution of 1st time "
   ]
  },
  {
   "cell_type": "code",
   "execution_count": 33,
   "metadata": {},
   "outputs": [
    {
     "name": "stdout",
     "output_type": "stream",
     "text": [
      "Train distribution:\n",
      "label\n",
      "ham     3390\n",
      "spam     511\n",
      "Name: count, dtype: int64\n",
      "Validation distribution:\n",
      "label\n",
      "ham     709\n",
      "spam    127\n",
      "Name: count, dtype: int64\n",
      "Test distribution:\n",
      "label\n",
      "ham     728\n",
      "spam    109\n",
      "Name: count, dtype: int64\n"
     ]
    }
   ],
   "source": [
    "train_df = pd.read_csv('data/train.csv')\n",
    "validation_df = pd.read_csv('data/validation.csv')\n",
    "test_df = pd.read_csv('data/test.csv')\n",
    "\n",
    "print(\"Train distribution:\")\n",
    "print(train_df['label'].value_counts())\n",
    "\n",
    "print(\"Validation distribution:\")\n",
    "print(validation_df['label'].value_counts())\n",
    "\n",
    "print(\"Test distribution:\")\n",
    "\n",
    "print(test_df['label'].value_counts())"
   ]
  },
  {
   "cell_type": "markdown",
   "metadata": {},
   "source": [
    "- Create a new split with a different seed and save it"
   ]
  },
  {
   "cell_type": "code",
   "execution_count": 34,
   "metadata": {},
   "outputs": [
    {
     "name": "stdout",
     "output_type": "stream",
     "text": [
      "New Train size: 3901, Validation size: 836, Test size: 837\n"
     ]
    }
   ],
   "source": [
    "from sklearn.model_selection import train_test_split\n",
    "\n",
    "# New split with a different random seed\n",
    "train_df, temp_df = train_test_split(df, test_size=0.3, random_state=69)\n",
    "validation_df, test_df = train_test_split(temp_df, test_size=0.5, random_state=69)\n",
    "\n",
    "# Save the new splits\n",
    "train_df.to_csv('data/train.csv', index=False)\n",
    "validation_df.to_csv('data/validation.csv', index=False)\n",
    "test_df.to_csv('data/test.csv', index=False)\n",
    "\n",
    "print(f\"New Train size: {len(train_df)}, Validation size: {len(validation_df)}, Test size: {len(test_df)}\")"
   ]
  },
  {
   "cell_type": "markdown",
   "metadata": {},
   "source": [
    "- Track the updated splits with DVC (2nd time)"
   ]
  },
  {
   "cell_type": "code",
   "execution_count": 35,
   "metadata": {},
   "outputs": [
    {
     "name": "stdout",
     "output_type": "stream",
     "text": [
      "\n",
      "To track the changes with git, run:\n",
      "\n",
      "\tgit add 'data\\train.csv.dvc'\n",
      "\n",
      "To enable auto staging, run:\n",
      "\n",
      "\tdvc config core.autostage true\n"
     ]
    },
    {
     "name": "stderr",
     "output_type": "stream",
     "text": [
      "⠋ Checking graph\n",
      "\n"
     ]
    },
    {
     "name": "stdout",
     "output_type": "stream",
     "text": [
      "\n",
      "To track the changes with git, run:\n",
      "\n",
      "\tgit add 'data\\validation.csv.dvc'\n",
      "\n",
      "To enable auto staging, run:\n",
      "\n",
      "\tdvc config core.autostage true\n"
     ]
    },
    {
     "name": "stderr",
     "output_type": "stream",
     "text": [
      "⠋ Checking graph\n",
      "\n"
     ]
    },
    {
     "name": "stdout",
     "output_type": "stream",
     "text": [
      "\n",
      "To track the changes with git, run:\n",
      "\n",
      "\tgit add 'data\\test.csv.dvc'\n",
      "\n",
      "To enable auto staging, run:\n",
      "\n",
      "\tdvc config core.autostage true\n"
     ]
    },
    {
     "name": "stderr",
     "output_type": "stream",
     "text": [
      "⠋ Checking graph\n",
      "\n"
     ]
    },
    {
     "name": "stdout",
     "output_type": "stream",
     "text": [
      "[detached HEAD 801ae8c] Update data/train, data/validation, and data/test splits with new random seed\n",
      " 3 files changed, 6 insertions(+), 6 deletions(-)\n",
      "3 files pushed\n"
     ]
    }
   ],
   "source": [
    "!dvc add data/train.csv\n",
    "!dvc add data/validation.csv\n",
    "!dvc add data/test.csv\n",
    "\n",
    "!git add data/train.csv.dvc data/validation.csv.dvc data/test.csv.dvc data/.gitignore\n",
    "!git commit -m \"Update data/train, data/validation, and data/test splits with new random seed\"\n",
    "\n",
    "!dvc push"
   ]
  },
  {
   "cell_type": "markdown",
   "metadata": {},
   "source": [
    "- Checkout the first version and show target distribution:"
   ]
  },
  {
   "cell_type": "code",
   "execution_count": 36,
   "metadata": {},
   "outputs": [
    {
     "name": "stdout",
     "output_type": "stream",
     "text": [
      "801ae8c Update data/train, data/validation, and data/test splits with new random seed\n",
      "7f6e93d Track data/train, data/validation, and data/test splits using DVC\n",
      "3f2ec5f Update data/train, data/validation, and data/test splits with new random seed\n",
      "d55a2e5 Track data/train, data/validation, and data/test splits using DVC\n",
      "fa3db1f Track data/raw_data.csv using DVC\n"
     ]
    }
   ],
   "source": [
    "!git log --oneline"
   ]
  },
  {
   "cell_type": "code",
   "execution_count": 39,
   "metadata": {},
   "outputs": [
    {
     "name": "stdout",
     "output_type": "stream",
     "text": [
      "M\t.dvc/config\n"
     ]
    },
    {
     "name": "stderr",
     "output_type": "stream",
     "text": [
      "Previous HEAD position was d55a2e5 Track data/train, data/validation, and data/test splits using DVC\n",
      "HEAD is now at 7f6e93d Track data/train, data/validation, and data/test splits using DVC\n"
     ]
    },
    {
     "name": "stdout",
     "output_type": "stream",
     "text": [
      "A       data\\validation.csv\n",
      "A       data\\test.csv\n",
      "A       data\\train.csv\n"
     ]
    }
   ],
   "source": [
    "# putting the first version's commit code\n",
    "!git checkout 7f6e93d\n",
    "!dvc checkout"
   ]
  },
  {
   "cell_type": "markdown",
   "metadata": {},
   "source": [
    "- Now print the distribution of initial commit"
   ]
  },
  {
   "cell_type": "code",
   "execution_count": 40,
   "metadata": {},
   "outputs": [
    {
     "name": "stdout",
     "output_type": "stream",
     "text": [
      "Train distribution:\n",
      "label\n",
      "ham     3390\n",
      "spam     511\n",
      "Name: count, dtype: int64\n",
      "Validation distribution:\n",
      "label\n",
      "ham     709\n",
      "spam    127\n",
      "Name: count, dtype: int64\n",
      "Test distribution:\n",
      "label\n",
      "ham     728\n",
      "spam    109\n",
      "Name: count, dtype: int64\n"
     ]
    }
   ],
   "source": [
    "# It matches with the above target distribution(1st version)\n",
    "train_df = pd.read_csv('data/train.csv')\n",
    "validation_df = pd.read_csv('data/validation.csv')\n",
    "test_df = pd.read_csv('data/test.csv')\n",
    "\n",
    "print(\"Train distribution:\")\n",
    "print(train_df['label'].value_counts())\n",
    "\n",
    "print(\"Validation distribution:\")\n",
    "print(validation_df['label'].value_counts())\n",
    "\n",
    "print(\"Test distribution:\")\n",
    "print(test_df['label'].value_counts())"
   ]
  },
  {
   "cell_type": "markdown",
   "metadata": {},
   "source": [
    "- Checkout the updated version"
   ]
  },
  {
   "cell_type": "code",
   "execution_count": null,
   "metadata": {},
   "outputs": [
    {
     "name": "stdout",
     "output_type": "stream",
     "text": [
      "M\t.dvc/config\n"
     ]
    },
    {
     "name": "stderr",
     "output_type": "stream",
     "text": [
      "Previous HEAD position was d55a2e5 Track data/train, data/validation, and data/test splits using DVC\n",
      "HEAD is now at 3f2ec5f Update data/train, data/validation, and data/test splits with new random seed\n"
     ]
    },
    {
     "name": "stdout",
     "output_type": "stream",
     "text": [
      "M       data\\validation.csv\n",
      "M       data\\train.csv\n",
      "M       data\\test.csv\n"
     ]
    }
   ],
   "source": [
    "# putting the updated version's commit code\n",
    "!git checkout 3f2ec5f\n",
    "!dvc checkout"
   ]
  },
  {
   "cell_type": "markdown",
   "metadata": {},
   "source": [
    "- Printing the updated distribution"
   ]
  },
  {
   "cell_type": "code",
   "execution_count": null,
   "metadata": {},
   "outputs": [
    {
     "name": "stdout",
     "output_type": "stream",
     "text": [
      "Updated Train distribution:\n",
      "label\n",
      "ham     3374\n",
      "spam     527\n",
      "Name: count, dtype: int64\n",
      "Updated Validation distribution:\n",
      "label\n",
      "ham     732\n",
      "spam    104\n",
      "Name: count, dtype: int64\n",
      "Updated Test distribution:\n",
      "label\n",
      "ham     721\n",
      "spam    116\n",
      "Name: count, dtype: int64\n"
     ]
    }
   ],
   "source": [
    "train_df = pd.read_csv('data/train.csv')\n",
    "validation_df = pd.read_csv('data/validation.csv')\n",
    "test_df = pd.read_csv('data/test.csv')\n",
    "\n",
    "print(\"Updated Train distribution:\")\n",
    "print(train_df['label'].value_counts())\n",
    "\n",
    "print(\"Updated Validation distribution:\")\n",
    "print(validation_df['label'].value_counts())\n",
    "\n",
    "print(\"Updated Test distribution:\")\n",
    "print(test_df['label'].value_counts())"
   ]
  },
  {
   "cell_type": "markdown",
   "metadata": {},
   "source": [
    "- Confirm Google Drive storage works"
   ]
  },
  {
   "cell_type": "code",
   "execution_count": 41,
   "metadata": {},
   "outputs": [
    {
     "name": "stdout",
     "output_type": "stream",
     "text": [
      "Cache and remote 'storage' are in sync.\n"
     ]
    }
   ],
   "source": [
    "!dvc status -r storage"
   ]
  },
  {
   "cell_type": "code",
   "execution_count": null,
   "metadata": {},
   "outputs": [],
   "source": []
  }
 ],
 "metadata": {
  "kernelspec": {
   "display_name": "Python 3",
   "language": "python",
   "name": "python3"
  },
  "language_info": {
   "codemirror_mode": {
    "name": "ipython",
    "version": 3
   },
   "file_extension": ".py",
   "mimetype": "text/x-python",
   "name": "python",
   "nbconvert_exporter": "python",
   "pygments_lexer": "ipython3",
   "version": "3.12.3"
  }
 },
 "nbformat": 4,
 "nbformat_minor": 2
}
