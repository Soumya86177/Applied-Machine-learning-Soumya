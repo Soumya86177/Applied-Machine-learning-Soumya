{
 "cells": [
  {
   "cell_type": "markdown",
   "metadata": {},
   "source": [
    "- Import Libraries"
   ]
  },
  {
   "cell_type": "code",
   "execution_count": 17,
   "metadata": {},
   "outputs": [],
   "source": [
    "import pandas as pd\n",
    "from sklearn.feature_extraction.text import TfidfVectorizer\n",
    "from sklearn.linear_model import LogisticRegression\n",
    "from sklearn.ensemble import RandomForestClassifier\n",
    "from sklearn.svm import SVC\n",
    "from sklearn.model_selection import GridSearchCV\n",
    "from sklearn.metrics import accuracy_score, f1_score, confusion_matrix\n",
    "import seaborn as sns\n",
    "import matplotlib.pyplot as plt\n",
    "import mlflow\n",
    "import mlflow.sklearn\n",
    "from mlflow.models import infer_signature"
   ]
  },
  {
   "cell_type": "markdown",
   "metadata": {},
   "source": [
    "- Load and Prepare the  Data"
   ]
  },
  {
   "cell_type": "code",
   "execution_count": 18,
   "metadata": {},
   "outputs": [],
   "source": [
    "# Load data\n",
    "train = pd.read_csv('data/train.csv')\n",
    "test = pd.read_csv('data/test.csv')\n",
    "valid = pd.read_csv('data/validation.csv')\n",
    "\n",
    "# Map labels ('ham' -> 0, 'spam' -> 1)\n",
    "X_train, y_train = train['sms'], train['label'].map({'ham': 0, 'spam': 1})\n",
    "X_test, y_test = test['sms'], test['label'].map({'ham': 0, 'spam': 1})\n",
    "X_valid, y_valid = valid['sms'], valid['label'].map({'ham': 0, 'spam': 1})\n",
    "\n",
    "# Remove missing values\n",
    "X_train.dropna(inplace=True)\n",
    "y_train = y_train[X_train.index]\n",
    "\n",
    "X_valid.dropna(inplace=True)\n",
    "y_valid = y_valid[X_valid.index]\n",
    "\n",
    "X_test.dropna(inplace=True)\n",
    "y_test = y_test[X_test.index]"
   ]
  },
  {
   "cell_type": "markdown",
   "metadata": {},
   "source": [
    "- Text Vectorization (TF-IDF)"
   ]
  },
  {
   "cell_type": "code",
   "execution_count": 19,
   "metadata": {},
   "outputs": [],
   "source": [
    "# TF-IDF Vectorization\n",
    "vectorizer = TfidfVectorizer(max_features=5000)\n",
    "X_train_tfidf = vectorizer.fit_transform(X_train)\n",
    "X_valid_tfidf = vectorizer.transform(X_valid)\n",
    "X_test_tfidf = vectorizer.transform(X_test)\n",
    "\n",
    "y_train = y_train.astype('float64')\n",
    "y_valid = y_valid.astype('float64')\n",
    "y_test = y_test.astype('float64')"
   ]
  },
  {
   "cell_type": "markdown",
   "metadata": {},
   "source": [
    "- Set Up MLflow Experiment"
   ]
  },
  {
   "cell_type": "code",
   "execution_count": 20,
   "metadata": {},
   "outputs": [
    {
     "data": {
      "text/plain": [
       "<Experiment: artifact_location='file:///d:/CMI/SEM4/AML/Assignment_2/mlruns/600064959698623497', creation_time=1741094266527, experiment_id='600064959698623497', last_update_time=1741094266527, lifecycle_stage='active', name='SMS Spam Classification with Hyperparameter Tuning', tags={}>"
      ]
     },
     "execution_count": 20,
     "metadata": {},
     "output_type": "execute_result"
    }
   ],
   "source": [
    "# Set MLflow experiment\n",
    "mlflow.set_experiment(\"SMS Spam Classification with Hyperparameter Tuning\")"
   ]
  },
  {
   "cell_type": "markdown",
   "metadata": {},
   "source": [
    "- Define Hyperparameter Grids"
   ]
  },
  {
   "cell_type": "code",
   "execution_count": 21,
   "metadata": {},
   "outputs": [],
   "source": [
    "# Expanded Hyperparameter Grids\n",
    "param_grid_lr = {\n",
    "    'C': [0.01, 0.1, 1, 10, 100],  # Added more values for finer tuning\n",
    "    'solver': ['liblinear', 'lbfgs', 'saga']  # Added 'saga' for better optimization\n",
    "}\n",
    "\n",
    "param_grid_rf = {\n",
    "    'n_estimators': [50, 100, 200, 300],  # Added 300 for more trees\n",
    "    'max_depth': [3, 5, 10, 20, None],  # Included 'None' for unlimited depth\n",
    "    'min_samples_split': [2, 5, 10],  # Added 10 for further exploration\n",
    "    'min_samples_leaf': [1, 2, 4]  # Added leaf size tuning\n",
    "}\n",
    "\n",
    "param_grid_svm = {\n",
    "    'C': [0.01, 0.1, 1, 10, 100],\n",
    "    'kernel': ['linear', 'rbf', 'poly', 'sigmoid'],\n",
    "    'gamma': ['scale', 'auto'],\n",
    "    'probability': [True]  # Ensure probability is enabled\n",
    "}\n",
    "\n",
    "\n"
   ]
  },
  {
   "cell_type": "markdown",
   "metadata": {},
   "source": [
    "- Model Training and Logging Function"
   ]
  },
  {
   "cell_type": "code",
   "execution_count": 22,
   "metadata": {},
   "outputs": [],
   "source": [
    "import mlflow\n",
    "import mlflow.sklearn\n",
    "import matplotlib.pyplot as plt\n",
    "import seaborn as sns\n",
    "import numpy as np\n",
    "from sklearn.metrics import accuracy_score, f1_score, precision_recall_curve, auc\n",
    "from mlflow.models.signature import infer_signature\n",
    "from sklearn.model_selection import GridSearchCV\n",
    "\n",
    "def train_and_log_model(model, param_grid, model_name):\n",
    "    with mlflow.start_run(run_name=model_name):\n",
    "        # Hyperparameter tuning with GridSearchCV\n",
    "        grid_search = GridSearchCV(model, param_grid, cv=5, scoring='f1', n_jobs=-1)\n",
    "        grid_search.fit(X_train_tfidf, y_train)\n",
    "\n",
    "        # Get best model and parameters\n",
    "        best_model = grid_search.best_estimator_\n",
    "        best_params = grid_search.best_params_\n",
    "        y_pred = best_model.predict(X_valid_tfidf)\n",
    "        y_probs = best_model.predict_proba(X_valid_tfidf)[:, 1]  # Probabilities for positive class\n",
    "\n",
    "        # Evaluate performance\n",
    "        acc = accuracy_score(y_valid, y_pred)\n",
    "        f1 = f1_score(y_valid, y_pred)\n",
    "\n",
    "        # Compute Precision-Recall curve and AUCPR\n",
    "        precision, recall, _ = precision_recall_curve(y_valid, y_probs)\n",
    "        aucpr = auc(recall, precision)\n",
    "\n",
    "        # Log best parameters and metrics\n",
    "        mlflow.log_params(best_params)\n",
    "        mlflow.log_metric(\"best_cv_score\", grid_search.best_score_)\n",
    "        mlflow.log_metric(\"accuracy\", acc)\n",
    "        mlflow.log_metric(\"f1_score\", f1)\n",
    "        mlflow.log_metric(\"aucpr\", aucpr)\n",
    "\n",
    "        # Plot and log AUCPR curve\n",
    "        plt.figure(figsize=(6, 6))\n",
    "        plt.plot(recall, precision, marker='.', label=f\"AUCPR: {aucpr:.4f}\")\n",
    "        plt.xlabel('Recall')\n",
    "        plt.ylabel('Precision')\n",
    "        plt.title(f\"{model_name} - Precision-Recall Curve\")\n",
    "        plt.legend()\n",
    "        aucpr_path = f\"{model_name}_aupr_curve.png\"\n",
    "        plt.savefig(aucpr_path)\n",
    "        mlflow.log_artifact(aucpr_path)\n",
    "\n",
    "        # Infer model signature and input example\n",
    "        input_example = X_valid_tfidf[:5].toarray()\n",
    "        signature = infer_signature(X_valid_tfidf.toarray(), y_valid[:5])\n",
    "\n",
    "        # Log the trained model with signature and input example\n",
    "        mlflow.sklearn.log_model(best_model, model_name, signature=signature, input_example=input_example)\n",
    "\n",
    "        print(f\"{model_name} training complete. Best params: {best_params}, AUCPR: {aucpr:.4f}\")\n"
   ]
  },
  {
   "cell_type": "markdown",
   "metadata": {},
   "source": [
    "-  Train and Log Models"
   ]
  },
  {
   "cell_type": "code",
   "execution_count": null,
   "metadata": {},
   "outputs": [],
   "source": [
    "# Train models\n",
    "train_and_log_model(LogisticRegression(), param_grid_lr, \"Logistic Regression\")\n",
    "train_and_log_model(RandomForestClassifier(random_state=42), param_grid_rf, \"Random Forest\")\n",
    "train_and_log_model(SVC(probability=True), param_grid_svm, \"Support Vector Machine\")\n",
    "\n",
    "\n",
    "print(\"Hyperparameter tuning and training complete! 🚀\")"
   ]
  }
 ],
 "metadata": {
  "kernelspec": {
   "display_name": "Python 3",
   "language": "python",
   "name": "python3"
  },
  "language_info": {
   "codemirror_mode": {
    "name": "ipython",
    "version": 3
   },
   "file_extension": ".py",
   "mimetype": "text/x-python",
   "name": "python",
   "nbconvert_exporter": "python",
   "pygments_lexer": "ipython3",
   "version": "3.12.3"
  }
 },
 "nbformat": 4,
 "nbformat_minor": 2
}
