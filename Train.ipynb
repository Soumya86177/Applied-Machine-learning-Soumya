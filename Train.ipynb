{
 "cells": [
  {
   "cell_type": "markdown",
   "metadata": {},
   "source": [
    "#  Import Libraries"
   ]
  },
  {
   "cell_type": "code",
   "execution_count": 1,
   "metadata": {},
   "outputs": [],
   "source": [
    "import pandas as pd\n",
    "import numpy as np\n",
    "from sklearn.naive_bayes import MultinomialNB\n",
    "from sklearn.linear_model import LogisticRegression\n",
    "from sklearn.ensemble import RandomForestClassifier\n",
    "from sklearn.metrics import accuracy_score, precision_score, recall_score, f1_score, classification_report\n",
    "from sklearn.model_selection import GridSearchCV\n",
    "import joblib  # To save the best model\n"
   ]
  },
  {
   "cell_type": "code",
   "execution_count": 2,
   "metadata": {},
   "outputs": [
    {
     "name": "stdout",
     "output_type": "stream",
     "text": [
      "C:\\Users\\soumy\\OneDrive\\Documents\\Semester 4\\AML\n"
     ]
    }
   ],
   "source": [
    "cd C:\\Users\\soumy\\OneDrive\\Documents\\Semester 4\\AML"
   ]
  },
  {
   "cell_type": "markdown",
   "metadata": {},
   "source": [
    "# Loading and preprocessing."
   ]
  },
  {
   "cell_type": "code",
   "execution_count": 3,
   "metadata": {},
   "outputs": [],
   "source": [
    "# Load preprocessed train, validation, and test data\n",
    "train_df = pd.read_csv(\"train.csv\")\n",
    "val_df = pd.read_csv(\"validation.csv\")\n",
    "test_df = pd.read_csv(\"test.csv\")\n",
    "\n",
    "# Load the TF-IDF vectorizer used in preprocessing\n",
    "from sklearn.feature_extraction.text import TfidfVectorizer\n",
    "\n",
    "vectorizer = TfidfVectorizer(stop_words=\"english\")\n",
    "X_train = vectorizer.fit_transform(train_df['text'])\n",
    "X_val = vectorizer.transform(val_df['text'])\n",
    "X_test = vectorizer.transform(test_df['text'])\n",
    "\n",
    "y_train = train_df['label']\n",
    "y_val = val_df['label']\n",
    "y_test = test_df['label']\n"
   ]
  },
  {
   "cell_type": "markdown",
   "metadata": {},
   "source": [
    "# Method for model training."
   ]
  },
  {
   "cell_type": "code",
   "execution_count": 4,
   "metadata": {},
   "outputs": [],
   "source": [
    "def train_model(model, X_train, y_train):\n",
    "    \"\"\"Train a model on the given training data.\"\"\"\n",
    "    model.fit(X_train, y_train)\n",
    "    return model\n"
   ]
  },
  {
   "cell_type": "markdown",
   "metadata": {},
   "source": [
    "# Method for model evaluation"
   ]
  },
  {
   "cell_type": "code",
   "execution_count": 5,
   "metadata": {},
   "outputs": [],
   "source": [
    "def score_model(model, X, y):\n",
    "    \"\"\"Evaluate a model on a given dataset and return key metrics.\"\"\"\n",
    "    y_pred = model.predict(X)\n",
    "    accuracy = accuracy_score(y, y_pred)\n",
    "    precision = precision_score(y, y_pred)\n",
    "    recall = recall_score(y, y_pred)\n",
    "    f1 = f1_score(y, y_pred)\n",
    "    \n",
    "    return {\n",
    "        \"accuracy\": accuracy,\n",
    "        \"precision\": precision,\n",
    "        \"recall\": recall,\n",
    "        \"f1_score\": f1\n",
    "    }\n"
   ]
  },
  {
   "cell_type": "markdown",
   "metadata": {},
   "source": [
    "# Prediction function"
   ]
  },
  {
   "cell_type": "code",
   "execution_count": 6,
   "metadata": {},
   "outputs": [],
   "source": [
    "def evaluate_predictions(model, X, y):\n",
    "    \"\"\"Print the classification report comparing actual vs predicted values.\"\"\"\n",
    "    y_pred = model.predict(X)\n",
    "    print(\"Classification Report:\\n\", classification_report(y, y_pred))\n"
   ]
  },
  {
   "cell_type": "markdown",
   "metadata": {},
   "source": [
    "# Training on 3 benchmark models."
   ]
  },
  {
   "cell_type": "code",
   "execution_count": 9,
   "metadata": {},
   "outputs": [
    {
     "name": "stdout",
     "output_type": "stream",
     "text": [
      "\n",
      "Training Naïve Bayes...\n",
      "Naïve Bayes Train Scores: {'accuracy': 0.9823076923076923, 'precision': 1.0, 'recall': 0.8693181818181818, 'f1_score': 0.9300911854103344}\n",
      "Naïve Bayes Validation Scores: {'accuracy': 0.9748803827751196, 'precision': 1.0, 'recall': 0.8037383177570093, 'f1_score': 0.8911917098445596}\n",
      "\n",
      "Naïve Bayes Validation Evaluation:\n",
      "Classification Report:\n",
      "               precision    recall  f1-score   support\n",
      "\n",
      "           0       0.97      1.00      0.99       729\n",
      "           1       1.00      0.80      0.89       107\n",
      "\n",
      "    accuracy                           0.97       836\n",
      "   macro avg       0.99      0.90      0.94       836\n",
      "weighted avg       0.98      0.97      0.97       836\n",
      "\n",
      "\n",
      "Training Logistic Regression...\n",
      "Logistic Regression Train Scores: {'accuracy': 0.9669230769230769, 'precision': 0.9950372208436724, 'recall': 0.759469696969697, 'f1_score': 0.8614393125671321}\n",
      "Logistic Regression Validation Scores: {'accuracy': 0.9533492822966507, 'precision': 0.9857142857142858, 'recall': 0.6448598130841121, 'f1_score': 0.7796610169491525}\n",
      "\n",
      "Logistic Regression Validation Evaluation:\n",
      "Classification Report:\n",
      "               precision    recall  f1-score   support\n",
      "\n",
      "           0       0.95      1.00      0.97       729\n",
      "           1       0.99      0.64      0.78       107\n",
      "\n",
      "    accuracy                           0.95       836\n",
      "   macro avg       0.97      0.82      0.88       836\n",
      "weighted avg       0.95      0.95      0.95       836\n",
      "\n",
      "\n",
      "Training SVM...\n",
      "SVM Train Scores: {'accuracy': 0.997948717948718, 'precision': 0.9961832061068703, 'recall': 0.9886363636363636, 'f1_score': 0.9923954372623575}\n",
      "SVM Validation Scores: {'accuracy': 0.9832535885167464, 'precision': 0.9894736842105263, 'recall': 0.8785046728971962, 'f1_score': 0.9306930693069306}\n",
      "\n",
      "SVM Validation Evaluation:\n",
      "Classification Report:\n",
      "               precision    recall  f1-score   support\n",
      "\n",
      "           0       0.98      1.00      0.99       729\n",
      "           1       0.99      0.88      0.93       107\n",
      "\n",
      "    accuracy                           0.98       836\n",
      "   macro avg       0.99      0.94      0.96       836\n",
      "weighted avg       0.98      0.98      0.98       836\n",
      "\n"
     ]
    }
   ],
   "source": [
    "from sklearn.svm import SVC\n",
    "\n",
    "# Initialize models\n",
    "models = {\n",
    "    \"Naïve Bayes\": MultinomialNB(),\n",
    "    \"Logistic Regression\": LogisticRegression(max_iter=200),\n",
    "    \"SVM\": SVC(kernel='linear', probability=True)  # Using a linear kernel for text classification\n",
    "}\n",
    "\n",
    "# Train models and evaluate on train & validation\n",
    "for name, model in models.items():\n",
    "    print(f\"\\nTraining {name}...\")\n",
    "\n",
    "    try:\n",
    "        model = train_model(model, X_train, y_train)\n",
    "\n",
    "        # Score on train and validation\n",
    "        train_scores = score_model(model, X_train, y_train)\n",
    "        val_scores = score_model(model, X_val, y_val)\n",
    "\n",
    "        print(f\"{name} Train Scores:\", train_scores)\n",
    "        print(f\"{name} Validation Scores:\", val_scores)\n",
    "\n",
    "        # Evaluate predictions\n",
    "        print(f\"\\n{name} Validation Evaluation:\")\n",
    "        evaluate_predictions(model, X_val, y_val)\n",
    "\n",
    "    except Exception as e:\n",
    "        print(f\"⚠️ Error in training {name}: {e}\")\n"
   ]
  },
  {
   "cell_type": "markdown",
   "metadata": {},
   "source": [
    "# Naïve Bayes Validation\n",
    "\n",
    "## Accuracy: 0.9749\n",
    "## Precision: 1.00\n",
    "## Recall: 0.80\n",
    "## F1-score: 0.89\n",
    "\n",
    "# Logistic Regression Validation\n",
    "\n",
    "## Accuracy: 0.9533\n",
    "## Precision: 0.99\n",
    "## Recall: 0.64\n",
    "## F1-score: 0.78\n",
    "## SVM Validation\n",
    "\n",
    "## Accuracy: 0.9833\n",
    "## Precision: 0.99\n",
    "## Recall: 0.88\n",
    "## F1-score: 0.93\n",
    "\n",
    "# Which model performed best?\n",
    "## Highest accuracy: SVM (0.9833)\n",
    "## Highest recall: SVM (0.88)\n",
    "## Highest F1-score: SVM (0.93)\n",
    "### Although Naïve Bayes shows perfect precision (1.00), its recall (0.80) is notably lower than SVM’s recall (0.88). Overall, SVM has the best balance across accuracy, precision, recall, and F1-score, making it the top performer among the three."
   ]
  },
  {
   "cell_type": "markdown",
   "metadata": {},
   "source": [
    "# Hyperparameter tuning "
   ]
  },
  {
   "cell_type": "code",
   "execution_count": 11,
   "metadata": {},
   "outputs": [
    {
     "name": "stdout",
     "output_type": "stream",
     "text": [
      "Best SVM Parameters: {'C': 10, 'kernel': 'linear'}\n"
     ]
    }
   ],
   "source": [
    "from sklearn.model_selection import GridSearchCV\n",
    "\n",
    "# Define the parameter grid for SVM\n",
    "param_grid = {\n",
    "    'C': [0.1, 1, 10, 100],  # Regularization strength\n",
    "    'kernel': ['linear']  # Keep linear for text classification\n",
    "}\n",
    "\n",
    "grid_search = GridSearchCV(SVC(probability=True), param_grid, cv=5, scoring=\"accuracy\")\n",
    "grid_search.fit(X_train, y_train)\n",
    "\n",
    "print(\"Best SVM Parameters:\", grid_search.best_params_)\n"
   ]
  },
  {
   "cell_type": "markdown",
   "metadata": {},
   "source": [
    "# Retraining the best model from scratch on the combined train + validation set."
   ]
  },
  {
   "cell_type": "code",
   "execution_count": 12,
   "metadata": {},
   "outputs": [
    {
     "data": {
      "text/html": [
       "<style>#sk-container-id-1 {color: black;}#sk-container-id-1 pre{padding: 0;}#sk-container-id-1 div.sk-toggleable {background-color: white;}#sk-container-id-1 label.sk-toggleable__label {cursor: pointer;display: block;width: 100%;margin-bottom: 0;padding: 0.3em;box-sizing: border-box;text-align: center;}#sk-container-id-1 label.sk-toggleable__label-arrow:before {content: \"▸\";float: left;margin-right: 0.25em;color: #696969;}#sk-container-id-1 label.sk-toggleable__label-arrow:hover:before {color: black;}#sk-container-id-1 div.sk-estimator:hover label.sk-toggleable__label-arrow:before {color: black;}#sk-container-id-1 div.sk-toggleable__content {max-height: 0;max-width: 0;overflow: hidden;text-align: left;background-color: #f0f8ff;}#sk-container-id-1 div.sk-toggleable__content pre {margin: 0.2em;color: black;border-radius: 0.25em;background-color: #f0f8ff;}#sk-container-id-1 input.sk-toggleable__control:checked~div.sk-toggleable__content {max-height: 200px;max-width: 100%;overflow: auto;}#sk-container-id-1 input.sk-toggleable__control:checked~label.sk-toggleable__label-arrow:before {content: \"▾\";}#sk-container-id-1 div.sk-estimator input.sk-toggleable__control:checked~label.sk-toggleable__label {background-color: #d4ebff;}#sk-container-id-1 div.sk-label input.sk-toggleable__control:checked~label.sk-toggleable__label {background-color: #d4ebff;}#sk-container-id-1 input.sk-hidden--visually {border: 0;clip: rect(1px 1px 1px 1px);clip: rect(1px, 1px, 1px, 1px);height: 1px;margin: -1px;overflow: hidden;padding: 0;position: absolute;width: 1px;}#sk-container-id-1 div.sk-estimator {font-family: monospace;background-color: #f0f8ff;border: 1px dotted black;border-radius: 0.25em;box-sizing: border-box;margin-bottom: 0.5em;}#sk-container-id-1 div.sk-estimator:hover {background-color: #d4ebff;}#sk-container-id-1 div.sk-parallel-item::after {content: \"\";width: 100%;border-bottom: 1px solid gray;flex-grow: 1;}#sk-container-id-1 div.sk-label:hover label.sk-toggleable__label {background-color: #d4ebff;}#sk-container-id-1 div.sk-serial::before {content: \"\";position: absolute;border-left: 1px solid gray;box-sizing: border-box;top: 0;bottom: 0;left: 50%;z-index: 0;}#sk-container-id-1 div.sk-serial {display: flex;flex-direction: column;align-items: center;background-color: white;padding-right: 0.2em;padding-left: 0.2em;position: relative;}#sk-container-id-1 div.sk-item {position: relative;z-index: 1;}#sk-container-id-1 div.sk-parallel {display: flex;align-items: stretch;justify-content: center;background-color: white;position: relative;}#sk-container-id-1 div.sk-item::before, #sk-container-id-1 div.sk-parallel-item::before {content: \"\";position: absolute;border-left: 1px solid gray;box-sizing: border-box;top: 0;bottom: 0;left: 50%;z-index: -1;}#sk-container-id-1 div.sk-parallel-item {display: flex;flex-direction: column;z-index: 1;position: relative;background-color: white;}#sk-container-id-1 div.sk-parallel-item:first-child::after {align-self: flex-end;width: 50%;}#sk-container-id-1 div.sk-parallel-item:last-child::after {align-self: flex-start;width: 50%;}#sk-container-id-1 div.sk-parallel-item:only-child::after {width: 0;}#sk-container-id-1 div.sk-dashed-wrapped {border: 1px dashed gray;margin: 0 0.4em 0.5em 0.4em;box-sizing: border-box;padding-bottom: 0.4em;background-color: white;}#sk-container-id-1 div.sk-label label {font-family: monospace;font-weight: bold;display: inline-block;line-height: 1.2em;}#sk-container-id-1 div.sk-label-container {text-align: center;}#sk-container-id-1 div.sk-container {/* jupyter's `normalize.less` sets `[hidden] { display: none; }` but bootstrap.min.css set `[hidden] { display: none !important; }` so we also need the `!important` here to be able to override the default hidden behavior on the sphinx rendered scikit-learn.org. See: https://github.com/scikit-learn/scikit-learn/issues/21755 */display: inline-block !important;position: relative;}#sk-container-id-1 div.sk-text-repr-fallback {display: none;}</style><div id=\"sk-container-id-1\" class=\"sk-top-container\"><div class=\"sk-text-repr-fallback\"><pre>SVC(C=10, kernel=&#x27;linear&#x27;, probability=True)</pre><b>In a Jupyter environment, please rerun this cell to show the HTML representation or trust the notebook. <br />On GitHub, the HTML representation is unable to render, please try loading this page with nbviewer.org.</b></div><div class=\"sk-container\" hidden><div class=\"sk-item\"><div class=\"sk-estimator sk-toggleable\"><input class=\"sk-toggleable__control sk-hidden--visually\" id=\"sk-estimator-id-1\" type=\"checkbox\" checked><label for=\"sk-estimator-id-1\" class=\"sk-toggleable__label sk-toggleable__label-arrow\">SVC</label><div class=\"sk-toggleable__content\"><pre>SVC(C=10, kernel=&#x27;linear&#x27;, probability=True)</pre></div></div></div></div></div>"
      ],
      "text/plain": [
       "SVC(C=10, kernel='linear', probability=True)"
      ]
     },
     "execution_count": 12,
     "metadata": {},
     "output_type": "execute_result"
    }
   ],
   "source": [
    "import numpy as np\n",
    "\n",
    "# Combine train and validation data\n",
    "X_combined = np.vstack((X_train.toarray(), X_val.toarray()))\n",
    "y_combined = np.hstack((y_train.values, y_val.values))\n",
    "\n",
    "# Train the final SVM model \n",
    "final_model = SVC(C=grid_search.best_params_['C'], kernel='linear', probability=True)\n",
    "final_model.fit(X_combined, y_combined)\n"
   ]
  },
  {
   "cell_type": "markdown",
   "metadata": {},
   "source": [
    "# Displaying the final metrics"
   ]
  },
  {
   "cell_type": "code",
   "execution_count": 14,
   "metadata": {},
   "outputs": [
    {
     "name": "stdout",
     "output_type": "stream",
     "text": [
      "\n",
      "Final Model Test Scores: {'accuracy': 0.9832535885167464, 'precision': 0.9711538461538461, 'recall': 0.9017857142857143, 'f1_score': 0.9351851851851851}\n",
      "\n",
      "Final Model Test Evaluation:\n",
      "Classification Report:\n",
      "               precision    recall  f1-score   support\n",
      "\n",
      "           0       0.98      1.00      0.99       724\n",
      "           1       0.97      0.90      0.94       112\n",
      "\n",
      "    accuracy                           0.98       836\n",
      "   macro avg       0.98      0.95      0.96       836\n",
      "weighted avg       0.98      0.98      0.98       836\n",
      "\n"
     ]
    }
   ],
   "source": [
    "# Convert X_test to dense since final_model (SVC) was trained on dense input\n",
    "X_test_dense = X_test.toarray()\n",
    "\n",
    "# Score on test data\n",
    "test_scores = score_model(final_model, X_test_dense, y_test)\n",
    "print(\"\\nFinal Model Test Scores:\", test_scores)\n",
    "\n",
    "# Evaluate predictions\n",
    "print(\"\\nFinal Model Test Evaluation:\")\n",
    "evaluate_predictions(final_model, X_test_dense, y_test)\n"
   ]
  },
  {
   "cell_type": "markdown",
   "metadata": {},
   "source": [
    "# SMS Spam Classification Report 📊\n",
    "\n",
    "## 🔹 Model Performance Summary\n",
    "### The final SVM (Support Vector Machine) model achieved high accuracy on the test set:\n",
    "\n",
    "| Metric      | Score  |\n",
    "|------------|--------|\n",
    "| Accuracy  | 98.33% |\n",
    "| Precision | 97.11% |\n",
    "| Recall    | 90.18% |\n",
    "| F1-score  | 93.52% |\n",
    "\n",
    "## 🔹 Key Observations\n",
    "- ### The high accuracy (98.33%) indicates the model generalizes well.\n",
    "- ### Precision (97.11%) suggests a low false-positive rate (few ham messages misclassified as spam).\n",
    "- ### Recall (90.18%) shows that most spam messages are correctly identified, but a few might be missed.\n",
    "- ### F1-score (93.52%) balances precision and recall, confirming strong overall performance.\n",
    "\n",
    "\n",
    "\n"
   ]
  }
 ],
 "metadata": {
  "kernelspec": {
   "display_name": "Python 3",
   "language": "python",
   "name": "python3"
  },
  "language_info": {
   "codemirror_mode": {
    "name": "ipython",
    "version": 3
   },
   "file_extension": ".py",
   "mimetype": "text/x-python",
   "name": "python",
   "nbconvert_exporter": "python",
   "pygments_lexer": "ipython3",
   "version": "3.11.3"
  }
 },
 "nbformat": 4,
 "nbformat_minor": 2
}
